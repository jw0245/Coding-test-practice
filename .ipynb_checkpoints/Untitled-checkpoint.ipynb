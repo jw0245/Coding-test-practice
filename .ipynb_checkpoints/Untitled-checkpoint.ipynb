{
 "cells": [
  {
   "cell_type": "code",
   "execution_count": 21,
   "id": "bacc6b19",
   "metadata": {},
   "outputs": [
    {
     "data": {
      "text/plain": [
       "'doe'"
      ]
     },
     "execution_count": 21,
     "metadata": {},
     "output_type": "execute_result"
    }
   ],
   "source": [
    "s = 'John Doe; Peter Benjamin Parker; Mary Jane Watson-Parker; John Elvis Doe; John Evan Doe; Jane Doe; Peter Brian Parker'\n",
    "c = \"example\"\n",
    "a = s.split(';')\n",
    "f = ''.join(filter(str.isalnum, a[0].split()[-1])).lower()\n",
    "f"
   ]
  },
  {
   "cell_type": "code",
   "execution_count": 26,
   "id": "9d5ada4c",
   "metadata": {},
   "outputs": [
    {
     "data": {
      "text/plain": [
       "'John Doe <doe_john@example.com>; Peter Benjamin Parker <parker_peter@example.com>; Mary Jane Watson-Parker <watsonparker_mary@example.com>; John Elvis Doe <doe_john2@example.com>; John Evan Doe <doe_john3@example.com>; Jane Doe <doe_jane@example.com>; Peter Brian Parker <parker_peter2@example.com>'"
      ]
     },
     "execution_count": 26,
     "metadata": {},
     "output_type": "execute_result"
    }
   ],
   "source": [
    "b = \" <\"\n",
    "d ='@'+ c.lower() + '.com>;'\n",
    "d2 ='@'+ c.lower() + '.com>'\n",
    "e = 1\n",
    "last = ''\n",
    "first = ''\n",
    "result = ''\n",
    "for i in range(len(a)):\n",
    "    for j in range(i):\n",
    "        if a[i].split()[0] == a[j].split()[0] and a[i].split()[-1] == a[j].split()[-1]:\n",
    "            e = e+1\n",
    "    first = ''.join(filter(str.isalnum, a[i].split()[-1])).lower()\n",
    "    last = ''.join(filter(str.isalnum, a[i].split()[0])).lower()\n",
    "    if i < len(a)-1 :\n",
    "        if e == 1:\n",
    "            result = result + a[i] + b + first + '_' + last + d\n",
    "        else : \n",
    "            result = result + a[i] + b + first + '_' + last + str(e) + d\n",
    "            e = 1\n",
    "    elif i == len(a)-1:\n",
    "        \n",
    "        if e == 1:\n",
    "            result = result + a[i] + b + first + '_' + last + d2\n",
    "        else : \n",
    "            result = result + a[i] + b + first + '_' + last + str(e) + d2\n",
    "            e = 1\n",
    "result"
   ]
  },
  {
   "cell_type": "code",
   "execution_count": 6,
   "id": "0177d14c",
   "metadata": {},
   "outputs": [
    {
     "data": {
      "text/plain": [
       "'3'"
      ]
     },
     "execution_count": 6,
     "metadata": {},
     "output_type": "execute_result"
    }
   ],
   "source": [
    "S = \"\" '1988-08-29        956 system.zip\\n1976-09-16     126976 old-photos.tgz\\n1987-02-03     118784 logs.rar\\n1961-12-04  703594496 very-long-filename.rar\\n1980-08-03          2 DELETE-THIS.TXT\\n2014-08-23        138 important.rar\\n2001-08-26     595968 MOONLIGHT-SONATA.FLAC\\n1967-11-30     245760 archive.rar\\n1995-10-13        731 file.tgz' \"\"\n",
    "count = 0\n",
    "files = S.split(\"\\n\")\n",
    "file = []\n",
    "for i in range(len(files)):\n",
    "    file.append(files[i].split())\n",
    "for i in file:\n",
    "    i[0] = ''.join(filter(str.isalnum, i[0]))\n",
    "    i[2] = i[2].split('.')  \n",
    "\n",
    "for i in file:\n",
    "    if  int(i[0]) < 19951013 and int(i[1]) < 240*2**10 and (i[2][1] == 'zip' or i[2][1] == 'rar' or i[2][1] == 'tgz') :\n",
    "        count = count +1\n",
    "str(count)  \n",
    "\n"
   ]
  },
  {
   "cell_type": "code",
   "execution_count": 42,
   "id": "00a60443",
   "metadata": {},
   "outputs": [
    {
     "data": {
      "text/plain": [
       "[['19880829', '956', ['system', 'zip']],\n",
       " ['19760916', '126976', ['old-photos', 'tgz']],\n",
       " ['19870203', '118784', ['logs', 'rar']],\n",
       " ['19611204', '703594496', ['very-long-filename', 'rar']],\n",
       " ['19800803', '2', ['DELETE-THIS', 'TXT']],\n",
       " ['20140823', '138', ['important', 'rar']],\n",
       " ['20010826', '595968', ['MOONLIGHT-SONATA', 'FLAC']],\n",
       " ['19671130', '245760', ['archive', 'rar']],\n",
       " ['19951013', '731', ['file', 'tgz']]]"
      ]
     },
     "execution_count": 42,
     "metadata": {},
     "output_type": "execute_result"
    }
   ],
   "source": [
    "file = []\n",
    "for i in range(len(files)):\n",
    "    file.append(files[i].split())\n",
    "for i in file:\n",
    "    i[0] = ''.join(filter(str.isalnum, i[0]))\n",
    "    i[2] = i[2].split('.')\n",
    "file"
   ]
  },
  {
   "cell_type": "code",
   "execution_count": 2,
   "id": "3d450c91",
   "metadata": {},
   "outputs": [
    {
     "ename": "IndentationError",
     "evalue": "unexpected indent (<ipython-input-2-e339857c0588>, line 2)",
     "output_type": "error",
     "traceback": [
      "\u001b[1;36m  File \u001b[1;32m\"<ipython-input-2-e339857c0588>\"\u001b[1;36m, line \u001b[1;32m2\u001b[0m\n\u001b[1;33m    files = S.split(\"\\n\")\u001b[0m\n\u001b[1;37m    ^\u001b[0m\n\u001b[1;31mIndentationError\u001b[0m\u001b[1;31m:\u001b[0m unexpected indent\n"
     ]
    }
   ],
   "source": [
    " count = 0\n",
    "    files = S.split(\"\\n\")\n",
    "    file = []\n",
    "    for i in range(len(files)):\n",
    "        file.append(files[i].split())\n",
    "    for i in file:\n",
    "        i[0] = ''.join(filter(str.isalnum, i[0]))\n",
    "        i[2] = i[2].split('.')  \n",
    "\n",
    "    for i in file:\n",
    "        if  int(i[0]) < 19951013 and int(i[1]) < 240*2**10 and (i[2][1] == 'zip' or i[2][1] == 'rar' or i[2][1] == 'tgz') :\n",
    "            count = count +1\n",
    "count"
   ]
  }
 ],
 "metadata": {
  "kernelspec": {
   "display_name": "Python 3",
   "language": "python",
   "name": "python3"
  },
  "language_info": {
   "codemirror_mode": {
    "name": "ipython",
    "version": 3
   },
   "file_extension": ".py",
   "mimetype": "text/x-python",
   "name": "python",
   "nbconvert_exporter": "python",
   "pygments_lexer": "ipython3",
   "version": "3.8.5"
  }
 },
 "nbformat": 4,
 "nbformat_minor": 5
}
