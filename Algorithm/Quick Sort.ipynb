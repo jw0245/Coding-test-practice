{
 "cells": [
  {
   "cell_type": "markdown",
   "id": "0bb86fbf",
   "metadata": {},
   "source": [
    "빠른 정렬 알고리즘으로 유명한 퀵정렬은 대표적으로 <b>분할정복</b> 알고리즘으로 평균속도가 O(N*logN)입니다.\n",
    "\n",
    "퀵정렬의 최악 시간 복잡도는 O(N^2)입니다.\n",
    "\n",
    "### 입력한 숫자들을 오름차순으로 정렬하시오"
   ]
  },
  {
   "cell_type": "code",
   "execution_count": 1,
   "id": "1d34d107",
   "metadata": {},
   "outputs": [
    {
     "name": "stdout",
     "output_type": "stream",
     "text": [
      "1 3 5 2 4 6 1 1\n",
      "[1, 1, 1, 2, 3, 4, 5, 6]\n"
     ]
    }
   ],
   "source": [
    "nlist = list(map(int, input().split()))\n",
    "length = len(nlist)\n",
    "    \n",
    "def quick_sort(arr):\n",
    "    def sort(low, high):\n",
    "        if high <= low:\n",
    "            return\n",
    "        mid = partition(low, high)\n",
    "        sort(low, mid - 1)\n",
    "        sort(mid, high)\n",
    "\n",
    "    def partition(low, high):\n",
    "        pivot = arr[(low + high) // 2]\n",
    "        while low <= high:\n",
    "            while arr[low] < pivot:\n",
    "                low += 1\n",
    "            while arr[high] > pivot:\n",
    "                high -= 1\n",
    "            if low <= high:\n",
    "                arr[low], arr[high] = arr[high], arr[low]\n",
    "                low, high = low + 1, high - 1\n",
    "        return low\n",
    "\n",
    "    return sort(0, len(arr) - 1)\n",
    "quick_sort(nlist)\n",
    "print(nlist)"
   ]
  }
 ],
 "metadata": {
  "kernelspec": {
   "display_name": "Python 3",
   "language": "python",
   "name": "python3"
  },
  "language_info": {
   "codemirror_mode": {
    "name": "ipython",
    "version": 3
   },
   "file_extension": ".py",
   "mimetype": "text/x-python",
   "name": "python",
   "nbconvert_exporter": "python",
   "pygments_lexer": "ipython3",
   "version": "3.8.5"
  }
 },
 "nbformat": 4,
 "nbformat_minor": 5
}
