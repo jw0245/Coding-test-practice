{
 "cells": [
  {
   "cell_type": "markdown",
   "id": "ebf612c5",
   "metadata": {},
   "source": [
    "### 입력한 숫자를 오름차순으로 정렬하시오"
   ]
  },
  {
   "cell_type": "code",
   "execution_count": 3,
   "id": "dd084ba6",
   "metadata": {},
   "outputs": [
    {
     "name": "stdout",
     "output_type": "stream",
     "text": [
      "50 16 46 1 2 3 0\n",
      "[0, 1, 2, 3, 16, 46, 50]\n"
     ]
    }
   ],
   "source": [
    "nlist = list(map(int,input().split()))\n",
    "length = len(nlist)\n",
    "\n",
    "for i in range(0,length):\n",
    "    for j in range(0,length-(i+1)):\n",
    "        if nlist[j]>nlist[j+1]:\n",
    "            temp = nlist[j]\n",
    "            nlist[j] = nlist[j+1]\n",
    "            nlist[j+1] = temp\n",
    "print(nlist)"
   ]
  },
  {
   "cell_type": "markdown",
   "id": "d30a01c7",
   "metadata": {},
   "source": [
    "수행시간 : O(N*N)"
   ]
  }
 ],
 "metadata": {
  "kernelspec": {
   "display_name": "Python 3",
   "language": "python",
   "name": "python3"
  }
 },
 "nbformat": 4,
 "nbformat_minor": 5
}
