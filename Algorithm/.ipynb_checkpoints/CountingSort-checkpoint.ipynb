{
 "cells": [
  {
   "cell_type": "markdown",
   "id": "bc30e79a",
   "metadata": {},
   "source": [
    "### 범위 조건(크기)이 있는 경우에 한해서 굉장히 빠른 알고리즘이 계수 정렬이며 속도는 O(N)입니다."
   ]
  },
  {
   "cell_type": "code",
   "execution_count": 8,
   "id": "1bb7c349",
   "metadata": {},
   "outputs": [
    {
     "name": "stdout",
     "output_type": "stream",
     "text": [
      "5\n",
      "1 3 2 1 3 4 2 3 1 2 3 4 5 3 1 1 2\n",
      "[1, 1, 1, 1, 1, 2, 2, 2, 2, 3, 3, 3, 3, 3, 4, 4, 5]\n"
     ]
    }
   ],
   "source": [
    "# N 이하의 자연수의 배열을 크기순으로 정렬하시오\n",
    "\n",
    "n = int(input())\n",
    "count = [0 for _ in range(n)]\n",
    "arr = list(map(int, input().split()))\n",
    "sort = []\n",
    "for i in range (0, len(arr)):\n",
    "    count[arr[i] - 1] = count[arr[i] - 1] + 1 \n",
    "for i in range(0, n):\n",
    "    if(count[i] != 0):\n",
    "        for j in range(0, count[i]):\n",
    "            sort.append(i+1)\n",
    "print(sort)"
   ]
  }
 ],
 "metadata": {
  "kernelspec": {
   "display_name": "Python 3",
   "language": "python",
   "name": "python3"
  },
  "language_info": {
   "codemirror_mode": {
    "name": "ipython",
    "version": 3
   },
   "file_extension": ".py",
   "mimetype": "text/x-python",
   "name": "python",
   "nbconvert_exporter": "python",
   "pygments_lexer": "ipython3",
   "version": "3.8.5"
  }
 },
 "nbformat": 4,
 "nbformat_minor": 5
}
