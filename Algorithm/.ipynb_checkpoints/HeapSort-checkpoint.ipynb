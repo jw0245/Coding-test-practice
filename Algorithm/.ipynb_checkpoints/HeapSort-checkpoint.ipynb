{
 "cells": [
  {
   "cell_type": "markdown",
   "id": "46d5b070",
   "metadata": {},
   "source": [
    "힙은 최솟값이나 최댓값을 빠르게 찾아내기 위해 완전 이진트리를 기반으로 하는 트리입니다. <br>\n",
    "시간복잡도  : O(N*logN)"
   ]
  },
  {
   "cell_type": "code",
   "execution_count": 11,
   "id": "da313589",
   "metadata": {},
   "outputs": [],
   "source": [
    "heap = [7,6,5,8,3,5,9,1,6]\n",
    "\n",
    "def heapify(arr,idx, n):\n",
    "    l = idx * 2\n",
    "    r= idx * 2 + 1\n",
    "    s_idx = idx\n",
    "    if(l <= n and arr[s_idx] > arr[l]):\n",
    "        s_idx = l\n",
    "    if(r <=n and arr[s_idx] > arr[r]):\n",
    "        s_idx = r\n",
    "    if s_idx != idx:\n",
    "        arr[idx], arr[s_idx] = arr[s_idx], arr[idx]\n",
    "        return heapify(arr, s_idx, n)\n",
    "def heap_sort(arr):\n",
    "    n = len(arr)\n",
    "    arr = [0]+arr\n",
    "    \n",
    "    # heap 생성\n",
    "    for i in range(n, 0,-1):\n",
    "        heapify(arr,i,n)\n",
    "    \n",
    "    for i in range(n, 0 , -1) :\n",
    "        print(arr[1])\n",
    "        arr[i], arr[1] = arr[1], arr[i]\n",
    "        heapify(arr,1,i-1)"
   ]
  },
  {
   "cell_type": "code",
   "execution_count": 12,
   "id": "b49678eb",
   "metadata": {},
   "outputs": [
    {
     "name": "stdout",
     "output_type": "stream",
     "text": [
      "1\n",
      "3\n",
      "5\n",
      "5\n",
      "6\n",
      "6\n",
      "7\n",
      "8\n",
      "9\n"
     ]
    }
   ],
   "source": [
    "heap_sort(heap)"
   ]
  }
 ],
 "metadata": {
  "kernelspec": {
   "display_name": "Python 3",
   "language": "python",
   "name": "python3"
  },
  "language_info": {
   "codemirror_mode": {
    "name": "ipython",
    "version": 3
   },
   "file_extension": ".py",
   "mimetype": "text/x-python",
   "name": "python",
   "nbconvert_exporter": "python",
   "pygments_lexer": "ipython3",
   "version": "3.8.5"
  }
 },
 "nbformat": 4,
 "nbformat_minor": 5
}
