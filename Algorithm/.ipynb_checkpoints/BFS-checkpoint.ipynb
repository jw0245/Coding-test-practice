{
 "cells": [
  {
   "cell_type": "markdown",
   "id": "713bf73f",
   "metadata": {},
   "source": [
    "너비 우선 탐색(BFS)은 탐색을 할때 너비를 우선으로 하여 탐색을 수행하는 탐색 알고리즘으로 맹목적인 탐색을 할 때 사용할 수 있는 탐색 기법입니다.\n",
    "* 너비 우선 탐색은 '최단 경로'를 찾아준다는 점에서 최단 길이를 보장해야 할때 많이 사용\n",
    "* Queue를 이용"
   ]
  }
 ],
 "metadata": {
  "kernelspec": {
   "display_name": "Python 3",
   "language": "python",
   "name": "python3"
  },
  "language_info": {
   "codemirror_mode": {
    "name": "ipython",
    "version": 3
   },
   "file_extension": ".py",
   "mimetype": "text/x-python",
   "name": "python",
   "nbconvert_exporter": "python",
   "pygments_lexer": "ipython3",
   "version": "3.8.5"
  }
 },
 "nbformat": 4,
 "nbformat_minor": 5
}
