{
 "cells": [
  {
   "cell_type": "markdown",
   "id": "95e33625",
   "metadata": {},
   "source": [
    "### 스택 (Stack) : LIFO : Last In First Out\n",
    "\n",
    "### 기본 연산 :\n",
    "* push() : \n",
    "스택에 원소를 추가한다.\n",
    "* pop() : \n",
    "스택 가장 위에 있는 원소를 삭제하고 그 원소를 반환한다.\n",
    "* peek() : \n",
    "스택 가장 위에 있는 원소를 반환한다. (삭제하지는 않는다.)\n",
    "* empty() : \n",
    "스택이 비어있다면 1, 아니면 0을 반환한다."
   ]
  },
  {
   "cell_type": "code",
   "execution_count": null,
   "id": "2365f9ba",
   "metadata": {},
   "outputs": [],
   "source": [
    "### 스택 구현\n",
    "\n",
    "class Stack:\n",
    "    # 리스트를 이용하여 스택구현\n",
    "    def __init__(self):\n",
    "        self.top = []\n",
    "    # 스택 크기 변환\n",
    "    def __len__(self) --> bool :\n",
    "        return len(self.top)\n",
    "    \n",
    "    # 구현함수\n",
    "    # 스택에 원소삽입\n",
    "    def push(self, item):\n",
    "        self.top.append(item)\n",
    "    # 스택 가장위에 있는 원소를 삭제하고 반환\n",
    "    def pop(self):\n",
    "        if not self.isEmpty():\n",
    "            return self.top[-1]\n",
    "        else:\n",
    "            print(\"Stack underflow\")\n",
    "            exit()\n",
    "    # 스택 가장위에 있는 원소 반환\n",
    "    def peek(self):\n",
    "        if not self.isEmpty():\n",
    "            return self.top[-1]\n",
    "        else:\n",
    "            print(\"underflow\")\n",
    "            exit()\n",
    "    def isEmpty(self) -> bool :\n",
    "        return len(self.top)==0"
   ]
  }
 ],
 "metadata": {
  "kernelspec": {
   "display_name": "Python 3",
   "language": "python",
   "name": "python3"
  },
  "language_info": {
   "codemirror_mode": {
    "name": "ipython",
    "version": 3
   },
   "file_extension": ".py",
   "mimetype": "text/x-python",
   "name": "python",
   "nbconvert_exporter": "python",
   "pygments_lexer": "ipython3",
   "version": "3.8.5"
  }
 },
 "nbformat": 4,
 "nbformat_minor": 5
}
