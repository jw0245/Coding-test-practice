{
 "cells": [
  {
   "cell_type": "markdown",
   "id": "4d31ce92",
   "metadata": {},
   "source": [
    "### 10000 이하의 정수 10개를 입력한 후 크기 순으로 정렬"
   ]
  },
  {
   "cell_type": "code",
   "execution_count": null,
   "id": "cf8adf88",
   "metadata": {},
   "outputs": [],
   "source": [
    "num_list = list(map(int,input().split()))\n",
    "length = len(num_list)\n",
    "\n",
    "for i in range (0,length):\n",
    "    min = 10000\n",
    "    for j in range(i,length):\n",
    "        if num_list[j] <= min :\n",
    "            min = num_list[j]\n",
    "            index = j\n",
    "    temp = num_list[i]\n",
    "    num_list[i] = num_list[index]\n",
    "    num_list[index] = temp\n",
    "    \n",
    "print(num_list)"
   ]
  },
  {
   "cell_type": "markdown",
   "id": "ea804fc5",
   "metadata": {},
   "source": [
    "선택정렬은 N*(N+1)/2의 시간이 소요됨\n",
    "수행시간 : O(N*N)"
   ]
  }
 ],
 "metadata": {
  "kernelspec": {
   "display_name": "Python 3",
   "language": "python",
   "name": "python3"
  },
  "language_info": {
   "codemirror_mode": {
    "name": "ipython",
    "version": 3
   },
   "file_extension": ".py",
   "mimetype": "text/x-python",
   "name": "python",
   "nbconvert_exporter": "python",
   "pygments_lexer": "ipython3",
   "version": "3.8.5"
  }
 },
 "nbformat": 4,
 "nbformat_minor": 5
}
