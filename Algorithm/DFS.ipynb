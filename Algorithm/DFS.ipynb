{
 "cells": [
  {
   "cell_type": "markdown",
   "id": "40496cb3",
   "metadata": {},
   "source": [
    "* DFS는 BFS와는 다르게 한 방향으로 갈 수 있을 만큼 깊게 탐색한다는 의미에서 깊이 우선 탐색\n",
    "\n",
    "* 스택구조를 사용하여 구현이 용이\n"
   ]
  },
  {
   "cell_type": "code",
   "execution_count": 12,
   "id": "722c2337",
   "metadata": {},
   "outputs": [],
   "source": [
    "graph_list = {1: set([3, 4]),\n",
    "              2: set([3, 4, 5]),\n",
    "              3: set([1, 5]),\n",
    "              4: set([1]),\n",
    "              5: set([2, 6]),\n",
    "              6: set([3, 5])}\n",
    "root_node = 1"
   ]
  },
  {
   "cell_type": "code",
   "execution_count": 11,
   "id": "6bbf2c74",
   "metadata": {},
   "outputs": [
    {
     "name": "stdout",
     "output_type": "stream",
     "text": [
      "n: 1\n",
      "visited: [1]\n",
      "stack: [3, 4]\n",
      "n: 4\n",
      "visited: [1, 4]\n",
      "stack: [3]\n",
      "n: 3\n",
      "visited: [1, 4, 3]\n",
      "stack: [5]\n",
      "n: 5\n",
      "visited: [1, 4, 3, 5]\n",
      "stack: [2, 6]\n",
      "n: 6\n",
      "visited: [1, 4, 3, 5, 6]\n",
      "stack: [2]\n",
      "n: 2\n",
      "visited: [1, 4, 3, 5, 6, 2]\n",
      "stack: []\n",
      "[1, 4, 3, 5, 6, 2]\n"
     ]
    }
   ],
   "source": [
    "def DFS(graph, root):\n",
    "    visited = []\n",
    "    stack = [root]\n",
    "\n",
    "    while stack:\n",
    "        n = stack.pop()\n",
    "        print(\"n:\",n)\n",
    "        if n not in visited:\n",
    "            visited.append(n)\n",
    "            print(\"visited:\",visited)\n",
    "            stack += graph[n] - set(visited)\n",
    "            print(\"stack:\",stack)\n",
    "    return visited\n",
    "\n",
    "print(DFS(graph_list, root_node))"
   ]
  }
 ],
 "metadata": {
  "kernelspec": {
   "display_name": "Python 3",
   "language": "python",
   "name": "python3"
  },
  "language_info": {
   "codemirror_mode": {
    "name": "ipython",
    "version": 3
   },
   "file_extension": ".py",
   "mimetype": "text/x-python",
   "name": "python",
   "nbconvert_exporter": "python",
   "pygments_lexer": "ipython3",
   "version": "3.8.5"
  }
 },
 "nbformat": 4,
 "nbformat_minor": 5
}
