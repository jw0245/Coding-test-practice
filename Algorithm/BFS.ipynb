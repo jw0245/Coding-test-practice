{
 "cells": [
  {
   "cell_type": "markdown",
   "id": "39712b18",
   "metadata": {},
   "source": [
    "### 너비 우선 탐색(BFS)은 탐색을 할때 너비를 우선으로 하여 탐색을 수행하는 탐색 알고리즘으로 맹목적인 탐색을 할 때 사용할 수 있는 탐색 기법입니다.\n",
    "* 너비 우선 탐색은 '최단 경로'를 찾아준다는 점에서 최단 길이를 보장해야 할때 많이 사용\n",
    "* Queue를 이용\n",
    "* 또한 인접 노드 중 방문하지 않았던 노드를 큐에 넣을 때는 파이썬 데이터 타입 중 set 을 사용하면 아주 쉽게 구현할 수 있음"
   ]
  },
  {
   "cell_type": "code",
   "execution_count": 1,
   "id": "d177a654",
   "metadata": {},
   "outputs": [],
   "source": [
    "graph_list = {1: set([3, 4]),\n",
    "              2: set([3, 4, 5]),\n",
    "              3: set([1, 5]),\n",
    "              4: set([1]),\n",
    "              5: set([2, 6]),\n",
    "              6: set([3, 5])}\n",
    "root_node = 1"
   ]
  },
  {
   "cell_type": "code",
   "execution_count": 2,
   "id": "e6908aa8",
   "metadata": {},
   "outputs": [
    {
     "name": "stdout",
     "output_type": "stream",
     "text": [
      "[1, 3, 4, 5, 2, 6]\n"
     ]
    }
   ],
   "source": [
    "from collections import deque\n",
    "\n",
    "def BFS_with_adj_list(graph, root):\n",
    "    visited = []\n",
    "    queue = deque([root])\n",
    "\n",
    "    while queue:\n",
    "        n = queue.popleft()\n",
    "        if n not in visited:\n",
    "            visited.append(n)\n",
    "            queue += graph[n] - set(visited)\n",
    "    return visited\n",
    "  \n",
    "print(BFS_with_adj_list(graph_list, root_node))"
   ]
  }
 ],
 "metadata": {
  "kernelspec": {
   "display_name": "Python 3",
   "language": "python",
   "name": "python3"
  },
  "language_info": {
   "codemirror_mode": {
    "name": "ipython",
    "version": 3
   },
   "file_extension": ".py",
   "mimetype": "text/x-python",
   "name": "python",
   "nbconvert_exporter": "python",
   "pygments_lexer": "ipython3",
   "version": "3.8.5"
  }
 },
 "nbformat": 4,
 "nbformat_minor": 5
}
