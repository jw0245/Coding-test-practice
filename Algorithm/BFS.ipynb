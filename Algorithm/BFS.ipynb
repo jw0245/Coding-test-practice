{
 "cells": [
  {
   "cell_type": "markdown",
   "id": "39712b18",
   "metadata": {},
   "source": [
    "### 너비 우선 탐색(BFS)은 탐색을 할때 너비를 우선으로 하여 탐색을 수행하는 탐색 알고리즘으로 맹목적인 탐색을 할 때 사용할 수 있는 탐색 기법입니다.\n",
    "* 너비 우선 탐색은 '최단 경로'를 찾아준다는 점에서 최단 길이를 보장해야 할때 많이 사용\n",
    "* Queue를 이용\n",
    "* 또한 인접 노드 중 방문하지 않았던 노드를 큐에 넣을 때는 파이썬 데이터 타입 중 <b>set</b> 을 사용하면 아주 쉽게 구현할 수 있음"
   ]
  },
  {
   "cell_type": "code",
   "execution_count": 4,
   "id": "d177a654",
   "metadata": {},
   "outputs": [],
   "source": [
    "graph_list = {1: set([3, 4]),\n",
    "              2: set([3, 4, 5]),\n",
    "              3: set([1, 5]),\n",
    "              4: set([1]),\n",
    "              5: set([2, 6]),\n",
    "              6: set([3, 5])}\n",
    "root_node = 1"
   ]
  },
  {
   "cell_type": "code",
   "execution_count": 15,
   "id": "e6908aa8",
   "metadata": {},
   "outputs": [
    {
     "name": "stdout",
     "output_type": "stream",
     "text": [
      "[1, 3, 4, 5, 2, 6]\n"
     ]
    }
   ],
   "source": [
    "from collections import deque\n",
    "\n",
    "def BFS_with_adj_list(graph, root):\n",
    "    visited = []\n",
    "    queue = deque([root])\n",
    "\n",
    "    while queue:\n",
    "        n = queue.popleft()\n",
    "        if n not in visited:\n",
    "            visited.append(n)\n",
    "            queue += graph[n] - set(visited)\n",
    "    return visited\n",
    "  \n",
    "print(BFS_with_adj_list(graph_list, root_node))"
   ]
  },
  {
   "cell_type": "code",
   "execution_count": 68,
   "id": "45c9b07f",
   "metadata": {},
   "outputs": [
    {
     "name": "stdout",
     "output_type": "stream",
     "text": [
      "n: 1\n",
      "queue deque([3, 4])\n",
      "결과: [1]\n",
      "n: 3\n",
      "queue deque([4, 5])\n",
      "결과: [1, 3]\n",
      "n: 4\n",
      "queue deque([5])\n",
      "결과: [1, 3, 4]\n",
      "n: 5\n",
      "queue deque([2, 6])\n",
      "결과: [1, 3, 4, 5]\n",
      "n: 2\n",
      "queue deque([6])\n",
      "결과: [1, 3, 4, 5, 2]\n",
      "n: 6\n",
      "queue deque([])\n",
      "결과: [1, 3, 4, 5, 2, 6]\n"
     ]
    },
    {
     "ename": "IndexError",
     "evalue": "pop from an empty deque",
     "output_type": "error",
     "traceback": [
      "\u001b[1;31m---------------------------------------------------------------------------\u001b[0m",
      "\u001b[1;31mIndexError\u001b[0m                                Traceback (most recent call last)",
      "\u001b[1;32m<ipython-input-68-9bb2cded4459>\u001b[0m in \u001b[0;36m<module>\u001b[1;34m\u001b[0m\n\u001b[0;32m     50\u001b[0m \u001b[0mprint\u001b[0m\u001b[1;33m(\u001b[0m\u001b[1;34m\"결과:\"\u001b[0m\u001b[1;33m,\u001b[0m\u001b[0mvisited\u001b[0m\u001b[1;33m)\u001b[0m\u001b[1;33m\u001b[0m\u001b[1;33m\u001b[0m\u001b[0m\n\u001b[0;32m     51\u001b[0m \u001b[1;33m\u001b[0m\u001b[0m\n\u001b[1;32m---> 52\u001b[1;33m \u001b[0mn\u001b[0m \u001b[1;33m=\u001b[0m \u001b[0mqueue\u001b[0m\u001b[1;33m.\u001b[0m\u001b[0mpopleft\u001b[0m\u001b[1;33m(\u001b[0m\u001b[1;33m)\u001b[0m\u001b[1;33m\u001b[0m\u001b[1;33m\u001b[0m\u001b[0m\n\u001b[0m\u001b[0;32m     53\u001b[0m \u001b[0mprint\u001b[0m\u001b[1;33m(\u001b[0m\u001b[1;34m\"n:\"\u001b[0m\u001b[1;33m,\u001b[0m \u001b[0mn\u001b[0m\u001b[1;33m)\u001b[0m\u001b[1;33m\u001b[0m\u001b[1;33m\u001b[0m\u001b[0m\n\u001b[0;32m     54\u001b[0m \u001b[1;32mif\u001b[0m \u001b[0mn\u001b[0m \u001b[1;32mnot\u001b[0m \u001b[1;32min\u001b[0m \u001b[0mvisited\u001b[0m\u001b[1;33m:\u001b[0m\u001b[1;33m\u001b[0m\u001b[1;33m\u001b[0m\u001b[0m\n",
      "\u001b[1;31mIndexError\u001b[0m: pop from an empty deque"
     ]
    }
   ],
   "source": [
    "visited = []\n",
    "queue = deque([1])\n",
    "\n",
    "n = queue.popleft()\n",
    "print(\"n:\", n)\n",
    "if n not in visited:\n",
    "    visited.append(n)\n",
    "    queue += graph_list[n] - set(visited)\n",
    "    print(\"queue\",queue)\n",
    "print(\"결과:\",visited)\n",
    "\n",
    "n = queue.popleft()\n",
    "print(\"n:\", n)\n",
    "if n not in visited:\n",
    "    visited.append(n)\n",
    "    queue += graph_list[n] - set(visited)\n",
    "    print(\"queue\",queue)\n",
    "print(\"결과:\",visited)\n",
    "\n",
    "n = queue.popleft()\n",
    "print(\"n:\", n)\n",
    "if n not in visited:\n",
    "    visited.append(n)\n",
    "    queue += graph_list[n] - set(visited)\n",
    "    print(\"queue\",queue)\n",
    "print(\"결과:\",visited)\n",
    "\n",
    "n = queue.popleft()\n",
    "print(\"n:\", n)\n",
    "if n not in visited:\n",
    "    visited.append(n)\n",
    "    queue += graph_list[n] - set(visited)\n",
    "    print(\"queue\",queue)\n",
    "print(\"결과:\",visited)\n",
    "\n",
    "n = queue.popleft()\n",
    "print(\"n:\", n)\n",
    "if n not in visited:\n",
    "    visited.append(n)\n",
    "    queue += graph_list[n] - set(visited)\n",
    "    print(\"queue\",queue)\n",
    "print(\"결과:\",visited)\n",
    "\n",
    "n = queue.popleft()\n",
    "print(\"n:\", n)\n",
    "if n not in visited:\n",
    "    visited.append(n)\n",
    "    queue += graph_list[n] - set(visited)\n",
    "    print(\"queue\",queue)\n",
    "print(\"결과:\",visited)\n",
    "\n",
    "n = queue.popleft()\n",
    "print(\"n:\", n)\n",
    "if n not in visited:\n",
    "    visited.append(n)\n",
    "    queue += graph_list[n] - set(visited)\n",
    "    print(\"queue\",queue)\n",
    "print(\"결과:\",visited)"
   ]
  },
  {
   "cell_type": "markdown",
   "id": "5f8aafb1",
   "metadata": {},
   "source": [
    "### deque \n",
    "* deque.append(item): item을 데크의 오른쪽 끝에 삽입한다.\n",
    "* deque.appendleft(item): item을 데크의 왼쪽 끝에 삽입한다.\n",
    "* deque.pop(): 데크의 오른쪽 끝 엘리먼트를 가져오는 동시에 데크에서 삭제한다.\n",
    "* deque.popleft(): 데크의 왼쪽 끝 엘리먼트를 가져오는 동시에 데크에서 삭제한다.\n",
    "* deque.extend(array): 주어진 배열(array)을 순환하면서 데크의 오른쪽에 추가한다.\n",
    "* deque.extendleft(array): 주어진 배열(array)을 순환하면서 데크의 왼쪽에 추가한다.\n",
    "* deque.remove(item): item을 데크에서 찾아 삭제한다.\n",
    "* deque.rotate(num): 데크를 num만큼 회전한다(양수면 오른쪽, 음수면 왼쪽)."
   ]
  }
 ],
 "metadata": {
  "kernelspec": {
   "display_name": "Python 3",
   "language": "python",
   "name": "python3"
  },
  "language_info": {
   "codemirror_mode": {
    "name": "ipython",
    "version": 3
   },
   "file_extension": ".py",
   "mimetype": "text/x-python",
   "name": "python",
   "nbconvert_exporter": "python",
   "pygments_lexer": "ipython3",
   "version": "3.8.5"
  }
 },
 "nbformat": 4,
 "nbformat_minor": 5
}
