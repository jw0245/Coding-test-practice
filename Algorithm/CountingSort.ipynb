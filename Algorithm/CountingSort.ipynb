{
 "cells": [
  {
   "cell_type": "markdown",
   "id": "bc30e79a",
   "metadata": {},
   "source": [
    "### 범위 조건(크기)이 있는 경우에 한해서 굉장히 빠른 알고리즘이 계수 정렬이며 속도는 O(N)입니다."
   ]
  },
  {
   "cell_type": "code",
   "execution_count": null,
   "id": "1bb7c349",
   "metadata": {},
   "outputs": [],
   "source": [
    "# N 이하의 자연수의 배열을 크기순으로 정렬하시오"
   ]
  }
 ],
 "metadata": {
  "kernelspec": {
   "display_name": "Python 3",
   "language": "python",
   "name": "python3"
  },
  "language_info": {
   "codemirror_mode": {
    "name": "ipython",
    "version": 3
   },
   "file_extension": ".py",
   "mimetype": "text/x-python",
   "name": "python",
   "nbconvert_exporter": "python",
   "pygments_lexer": "ipython3",
   "version": "3.8.5"
  }
 },
 "nbformat": 4,
 "nbformat_minor": 5
}
