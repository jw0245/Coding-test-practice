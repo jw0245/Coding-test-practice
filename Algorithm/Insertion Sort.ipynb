{
 "cells": [
  {
   "cell_type": "markdown",
   "id": "0b45be42",
   "metadata": {},
   "source": [
    "삽입 정렬은 문제를 풀 때 <b>각 숫자를 적절한 위치에 삽입하는 방법</b>으로 문제를 해결한다.\n",
    "\n",
    "### 입력한 숫자를 오름차순으로 정렬하시오"
   ]
  },
  {
   "cell_type": "code",
   "execution_count": 9,
   "id": "da9ecfde",
   "metadata": {},
   "outputs": [
    {
     "name": "stdout",
     "output_type": "stream",
     "text": [
      "20 30 50 10 5 6 7 10\n",
      "[5, 6, 7, 10, 10, 20, 30, 50]\n"
     ]
    }
   ],
   "source": [
    "nlist = list(map(int,input().split()))\n",
    "length = len(nlist)\n",
    "for i in range (1,length):\n",
    "    j = i-1\n",
    "    while (j>=0 and nlist[j] > nlist[j+1]):\n",
    "        temp = nlist[j]\n",
    "        nlist[j] = nlist[j+1]\n",
    "        nlist[j+1] = temp\n",
    "        j = j-1\n",
    "print(nlist)"
   ]
  },
  {
   "cell_type": "code",
   "execution_count": null,
   "id": "46ed9a24",
   "metadata": {},
   "outputs": [],
   "source": [
    "수행시간 : O(N*N)"
   ]
  }
 ],
 "metadata": {
  "kernelspec": {
   "display_name": "Python 3",
   "language": "python",
   "name": "python3"
  },
  "language_info": {
   "codemirror_mode": {
    "name": "ipython",
    "version": 3
   },
   "file_extension": ".py",
   "mimetype": "text/x-python",
   "name": "python",
   "nbconvert_exporter": "python",
   "pygments_lexer": "ipython3",
   "version": "3.8.5"
  }
 },
 "nbformat": 4,
 "nbformat_minor": 5
}
