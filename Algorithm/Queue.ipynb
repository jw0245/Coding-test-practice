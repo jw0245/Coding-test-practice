{
 "cells": [
  {
   "cell_type": "markdown",
   "id": "7b1f5a5b",
   "metadata": {},
   "source": [
    "Queue : 먼저 들어온 것이 먼저 나가는 FIFO(First In First Out, FIFO)구조\n",
    "\n",
    "기본연산 :\n",
    "* enqueue : 데이터를 삽입하는 과정을 enqueue\n",
    "* dequeue : 가장 먼저 삽입한 데이터를 빼서 사용하는 과정을 dequeue\n",
    "* peek : peek은 Front 위치에 있는 데이터를 꺼내지 않고 어떤 값인지 return\n",
    "* isempty : isEmpty는 현재 큐가 비어있는지 확인"
   ]
  },
  {
   "cell_type": "code",
   "execution_count": 3,
   "id": "ab33086d",
   "metadata": {},
   "outputs": [],
   "source": [
    "class Queue():\n",
    "    def __init__(self):\n",
    "        self.queue=[]\n",
    "    \n",
    "    def enqueue(self, data):\n",
    "        self.queue.append(data)\n",
    "    \n",
    "    def dequeue(self):\n",
    "        dequeue_object = None\n",
    "        if self.isEmtpy():\n",
    "            print(\"Queuei is Empty\")\n",
    "        else:\n",
    "            dequeue_object = self.queue[0]\n",
    "            self.queue = self.queue[1:]\n",
    "        return dequeue_obeject\n",
    "\n",
    "    def peek(self):\n",
    "        peek_obejct = None\n",
    "        if self.isEmpty():\n",
    "            print(\"Queue is Empty\")\n",
    "        else :\n",
    "            peek_object = self.queue[0]\n",
    "        return peek_object\n",
    "    \n",
    "    def isEmpty(self):\n",
    "        is_empty = False\n",
    "        if len(self.queue) == 0 :\n",
    "            is_empty = True\n",
    "        return is_empty"
   ]
  }
 ],
 "metadata": {
  "kernelspec": {
   "display_name": "Python 3",
   "language": "python",
   "name": "python3"
  },
  "language_info": {
   "codemirror_mode": {
    "name": "ipython",
    "version": 3
   },
   "file_extension": ".py",
   "mimetype": "text/x-python",
   "name": "python",
   "nbconvert_exporter": "python",
   "pygments_lexer": "ipython3",
   "version": "3.8.5"
  }
 },
 "nbformat": 4,
 "nbformat_minor": 5
}
