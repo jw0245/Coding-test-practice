{
 "cells": [
  {
   "cell_type": "markdown",
   "id": "5167f92d",
   "metadata": {},
   "source": [
    "## 이진트리\n",
    "\n",
    "### 이진 탐색 트리 (binary search tree)는 이진 트리의 특수한 경우이다. 모든 노드에 대해 그 왼쪽 자식들의 값이 현재 노드 값보다 작거나 같으며, 그 오른쪽 자식들의 값이 현재 노드의 값보다 크다는 조건을 만족하면 이진 탐색 트리가 된다.\n",
    "<br>\n",
    "\n",
    "* 전위 순회 <br>\n",
    "1) 먼저 자기 자신을 처리<br>\n",
    "2) 왼쪽 자식을 방문<br>\n",
    "3) 오른쪽 자식을 방문<br><br>\n",
    "\n",
    "* 중위 순회 <br>\n",
    "1) 왼쪽 자식을 방문<br>\n",
    "2) 먼저 자기 자신을 처리<br>\n",
    "3) 오른쪽 자식을 방문<br><br>\n",
    "\n",
    "* 후위 순회 <br>\n",
    "1) 왼쪽 자식을 방문<br>\n",
    "2) 오른쪽 자식을 방문<br>\n",
    "3) 먼저 자기 자신을 처리<br>\n"
   ]
  },
  {
   "cell_type": "code",
   "execution_count": 1,
   "id": "85d133ba",
   "metadata": {},
   "outputs": [],
   "source": [
    "class Node(object):\n",
    "    def __init__(self, data):\n",
    "        self.data = data\n",
    "        self.left = self.right = None\n",
    "        \n",
    "class BinarySearchTree(object):\n",
    "    def __init__(self):\n",
    "        self.root = None\n",
    "    \n",
    "    def insert(self, data):\n",
    "        self.root = self._insert_value(self.root, data)\n",
    "        return self.root is not None\n",
    "    \n",
    "    def _insert_value(self, node, data):\n",
    "        if node is None:\n",
    "            node = Node(data)\n",
    "        else:\n",
    "            if data <= node.data:\n",
    "                node.left = self._insert_value(node.left, data)\n",
    "            else:\n",
    "                node.right = self._insert_value(node.right, data)\n",
    "        return node\n",
    "    \n",
    "    def find(self, key):\n",
    "        return self._find_value(self.root, key)\n",
    "    \n",
    "    def _find_value(self, root, key):\n",
    "        if root is None or root.data == key:\n",
    "            return root is not None\n",
    "        elif key < root.data:\n",
    "            return self._find_value(root.left, key)\n",
    "        else:\n",
    "            return self._find_value(root.right, key)\n",
    "        \n",
    "    def delete(self, key):\n",
    "        self.root, deleted = self._delete_value(self.root, key)\n",
    "        return deleted\n",
    "    \n",
    "    def _delete_value(self, node, key):\n",
    "        if node is None:\n",
    "            return node, False\n",
    "\n",
    "        deleted = False\n",
    "        if key == node.data:\n",
    "            deleted = True\n",
    "            if node.left and node.right:\n",
    "                # replace the node to the leftmost of node.right\n",
    "                parent, child = node, node.right\n",
    "                while child.left is not None:\n",
    "                    parent, child = child, child.left\n",
    "                child.left = node.left\n",
    "                if parent != node:\n",
    "                    parent.left = child.right\n",
    "                    child.right = node.right\n",
    "                node = child\n",
    "            elif node.left or node.right:\n",
    "                node = node.left or node.right\n",
    "            else:\n",
    "                node = None\n",
    "        elif key < node.data:\n",
    "            node.left, deleted = self._delete_value(node.left, key)\n",
    "        else:\n",
    "            node.right, deleted = self._delete_value(node.right, key)\n",
    "        return node, deleted"
   ]
  },
  {
   "cell_type": "code",
   "execution_count": 4,
   "id": "68e42690",
   "metadata": {},
   "outputs": [
    {
     "name": "stdout",
     "output_type": "stream",
     "text": [
      "True\n",
      "False\n",
      "True\n",
      "True\n",
      "False\n"
     ]
    },
    {
     "data": {
      "text/plain": [
       "__main__.BinarySearchTree"
      ]
     },
     "execution_count": 4,
     "metadata": {},
     "output_type": "execute_result"
    }
   ],
   "source": [
    "array = [40, 4, 34, 45, 14, 55, 48, 13, 15, 49, 47]\n",
    "\n",
    "bst = BinarySearchTree()\n",
    "for x in array:\n",
    "    bst.insert(x)\n",
    "\n",
    "# Find\n",
    "print(bst.find(15)) # True\n",
    "print(bst.find(17)) # False\n",
    "\n",
    "# Delete\n",
    "print(bst.delete(55)) # True\n",
    "print(bst.delete(14)) # True\n",
    "print(bst.delete(11)) # False\n"
   ]
  }
 ],
 "metadata": {
  "kernelspec": {
   "display_name": "Python 3",
   "language": "python",
   "name": "python3"
  },
  "language_info": {
   "codemirror_mode": {
    "name": "ipython",
    "version": 3
   },
   "file_extension": ".py",
   "mimetype": "text/x-python",
   "name": "python",
   "nbconvert_exporter": "python",
   "pygments_lexer": "ipython3",
   "version": "3.8.5"
  }
 },
 "nbformat": 4,
 "nbformat_minor": 5
}
