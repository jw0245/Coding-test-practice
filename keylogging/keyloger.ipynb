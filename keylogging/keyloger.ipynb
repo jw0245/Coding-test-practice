{
 "cells": [
  {
   "cell_type": "code",
   "execution_count": null,
   "id": "c4f725de",
   "metadata": {},
   "outputs": [
    {
     "name": "stdout",
     "output_type": "stream",
     "text": [
      "'a'\n",
      "'s'\n",
      "'d'\n",
      "'a'\n",
      "'s'\n",
      "'d'\n",
      "'a'\n",
      "'a'\n",
      "'s'\n",
      "'d'\n",
      "'a'\n",
      "'s'\n",
      "'d'\n",
      "'a'\n",
      "'s'\n",
      "'a'\n",
      "'d'\n",
      "'a'\n",
      "'s'\n",
      "'d'\n",
      "'a'\n",
      "'d'\n",
      "'l'\n",
      "Key.backspace\n",
      "'k'\n",
      "'e'\n",
      "'y'\n",
      "'l'\n",
      "'o'\n",
      "'g'\n",
      "'e'\n",
      "'r'\n",
      "Key.enter\n"
     ]
    }
   ],
   "source": [
    "from pynput.keyboard import Listener\n",
    "\n",
    "def on_press(key):\n",
    "    print(key)\n",
    "with Listener(on_press=on_press) as listener:\n",
    "    listener.join()"
   ]
  }
 ],
 "metadata": {
  "kernelspec": {
   "display_name": "Python 3",
   "language": "python",
   "name": "python3"
  },
  "language_info": {
   "codemirror_mode": {
    "name": "ipython",
    "version": 3
   },
   "file_extension": ".py",
   "mimetype": "text/x-python",
   "name": "python",
   "nbconvert_exporter": "python",
   "pygments_lexer": "ipython3",
   "version": "3.8.5"
  }
 },
 "nbformat": 4,
 "nbformat_minor": 5
}
