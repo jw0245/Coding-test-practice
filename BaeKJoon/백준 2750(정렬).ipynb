{
 "cells": [
  {
   "cell_type": "markdown",
   "id": "2dc4346b",
   "metadata": {},
   "source": [
    "수 정렬하기 \n",
    "* 문제: <br>\n",
    " N개의 수가 주어졌을 때, 이를 오름차순으로 정렬하는 프로그램을 작성하시오.\n",
    "<br><br>\n",
    "* 입력: <br>\n",
    " 첫째 줄에 수의 개수 N(1 ≤ N ≤ 1,000)이 주어진다. 둘째 줄부터 N개의 줄에는 수 주 어진다. 이 수는 절댓값이 1,000보다 작거나 같은 정수이다. 수는 중복되지 않는다.\n",
    "<br><br>\n",
    "* 출력: <br>\n",
    " 첫째 줄부터 N개의 줄에 오름차순으로 정렬한 결과를 한 줄에 하나씩 출력한다."
   ]
  },
  {
   "cell_type": "code",
   "execution_count": 8,
   "id": "7dd7405f",
   "metadata": {},
   "outputs": [
    {
     "name": "stdout",
     "output_type": "stream",
     "text": [
      "5\n",
      "5\n",
      "2\n",
      "3\n",
      "4\n",
      "1\n",
      "1\n",
      "2\n",
      "3\n",
      "4\n",
      "5\n"
     ]
    }
   ],
   "source": [
    "n  = int(input())\n",
    "arr = []\n",
    "\n",
    "for i in range(0,n):\n",
    "    arr.append(int(input()))\n",
    "    \n",
    "sorted_arr = sorted(arr)\n",
    "\n",
    "for i in sorted_arr:\n",
    "    print(i)"
   ]
  }
 ],
 "metadata": {
  "kernelspec": {
   "display_name": "Python 3",
   "language": "python",
   "name": "python3"
  },
  "language_info": {
   "codemirror_mode": {
    "name": "ipython",
    "version": 3
   },
   "file_extension": ".py",
   "mimetype": "text/x-python",
   "name": "python",
   "nbconvert_exporter": "python",
   "pygments_lexer": "ipython3",
   "version": "3.8.5"
  }
 },
 "nbformat": 4,
 "nbformat_minor": 5
}
