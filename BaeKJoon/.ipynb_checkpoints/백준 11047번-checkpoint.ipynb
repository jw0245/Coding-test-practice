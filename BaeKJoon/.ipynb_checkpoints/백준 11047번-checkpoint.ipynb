{
 "cells": [
  {
   "cell_type": "markdown",
   "id": "f69e22c8",
   "metadata": {},
   "source": [
    "준규가 가지고 있는 동전은 총 N종류이고, 각각의 동전을 매우 많이 가지고 있다.\n",
    "\n",
    "동전을 적절히 사용해서 그 가치의 합을 K로 만들려고 한다. 이때 필요한 동전 개수의 최솟값을 구하는 프로그램을 작성하시오.\n",
    "\n",
    "**입력\n",
    "첫째 줄에 N과 K가 주어진다. (1 ≤ N ≤ 10, 1 ≤ K ≤ 100,000,000)\n",
    "둘째 줄부터 N개의 줄에 동전의 가치 Ai가 오름차순으로 주어진다. (1 ≤ Ai ≤ 1,000,000, A1 = 1, i ≥ 2인 경우에 Ai는 Ai-1의 배수)\n",
    "\n",
    "**출력\n",
    "첫째 줄에 K원을 만드는데 필요한 동전 개수의 최솟값을 출력한다"
   ]
  },
  {
   "cell_type": "code",
   "execution_count": null,
   "id": "1fded4f0",
   "metadata": {},
   "outputs": [],
   "source": [
    "n,k = map(int, input().split())\n",
    "m = []\n",
    "sum = 0\n",
    "\n",
    "for i in range(0,n):\n",
    "    m.append(int(input()))\n",
    "\n",
    "for i in range(n-1,-1,-1):\n",
    "    if k==0:\n",
    "        break\n",
    "    if k<m[i]:\n",
    "        continue\n",
    "    sum += k // m[i]\n",
    "    k = k % m[i]\n",
    "print(sum)"
   ]
  }
 ],
 "metadata": {
  "kernelspec": {
   "display_name": "Python 3",
   "language": "python",
   "name": "python3"
  },
  "language_info": {
   "codemirror_mode": {
    "name": "ipython",
    "version": 3
   },
   "file_extension": ".py",
   "mimetype": "text/x-python",
   "name": "python",
   "nbconvert_exporter": "python",
   "pygments_lexer": "ipython3",
   "version": "3.8.5"
  }
 },
 "nbformat": 4,
 "nbformat_minor": 5
}
