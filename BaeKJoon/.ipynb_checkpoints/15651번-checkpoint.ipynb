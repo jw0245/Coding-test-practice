{
 "cells": [
  {
   "cell_type": "markdown",
   "id": "9a7bb2c5",
   "metadata": {},
   "source": [
    "자연수 N과 M이 주어졌을 때, 아래 조건을 만족하는 길이가 M인 수열을 모두 구하는 프로그램을 작성하시오.\n",
    "\n",
    "1부터 N까지 자연수 중에서 M개를 고른 수열\n",
    "같은 수를 여러 번 골라도 된다."
   ]
  },
  {
   "cell_type": "code",
   "execution_count": 15,
   "id": "25e7c64a",
   "metadata": {},
   "outputs": [
    {
     "name": "stdout",
     "output_type": "stream",
     "text": [
      "4 2\n",
      "0 1 \n",
      "0 2 \n",
      "0 3 \n",
      "0 4 \n",
      "1 2 \n",
      "1 3 \n",
      "1 4 \n",
      "2 3 \n",
      "2 4 \n",
      "3 4 \n"
     ]
    }
   ],
   "source": [
    "a,b = map(int,input().split())\n",
    "arr = [i*0 for i in range(8)]\n",
    "visited = [i*0 for i in range(8)]\n",
    "def dfs(num, cnt):\n",
    "    if(cnt == b):\n",
    "        for i in range(b):\n",
    "            print(arr[i],end=' ')\n",
    "        print()\n",
    "        return\n",
    "    for i in range(num,a+1):\n",
    "        if(visited[i] is not True):\n",
    "            visited[i] = 1\n",
    "            arr[cnt] = i;\n",
    "            dfs(i+1,cnt+1)\n",
    "            visited[i] = 0\n",
    "dfs(0,0)"
   ]
  },
  {
   "cell_type": "code",
   "execution_count": null,
   "id": "d4a98fe4",
   "metadata": {},
   "outputs": [],
   "source": [
    "for i in range(1,5):\n",
    "    for j in range(1,5):\n",
    "        print(i)"
   ]
  }
 ],
 "metadata": {
  "kernelspec": {
   "display_name": "Python 3",
   "language": "python",
   "name": "python3"
  },
  "language_info": {
   "codemirror_mode": {
    "name": "ipython",
    "version": 3
   },
   "file_extension": ".py",
   "mimetype": "text/x-python",
   "name": "python",
   "nbconvert_exporter": "python",
   "pygments_lexer": "ipython3",
   "version": "3.8.5"
  }
 },
 "nbformat": 4,
 "nbformat_minor": 5
}
