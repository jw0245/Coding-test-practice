{
 "cells": [
  {
   "cell_type": "markdown",
   "id": "70b18144",
   "metadata": {},
   "source": [
    "자연수 N과 M이 주어졌을 때, 아래 조건을 만족하는 길이가 M인 수열을 모두 구하는 프로그램을 작성하시오.\n",
    "\n",
    "1부터 N까지 자연수 중에서 중복 없이 M개를 고른 수열\n",
    "고른 수열은 오름차순이어야 한다."
   ]
  },
  {
   "cell_type": "code",
   "execution_count": 16,
   "id": "a6f120f7",
   "metadata": {},
   "outputs": [
    {
     "name": "stdout",
     "output_type": "stream",
     "text": [
      "5 3\n",
      "1 2 3 \n",
      "1 2 4 \n",
      "1 2 5 \n",
      "1 3 4 \n",
      "1 3 5 \n",
      "1 4 5 \n",
      "2 3 4 \n",
      "2 3 5 \n",
      "2 4 5 \n",
      "3 4 5 \n"
     ]
    }
   ],
   "source": [
    "a,b = map(int,input().split())\n",
    "arr = [i*0 for i in range(9)]\n",
    "visited = [i*0 for i in range(9)]\n",
    "def dfs(num, cnt):\n",
    "    if(cnt == b):\n",
    "        for i in range(b):\n",
    "            print(arr[i],end=' ')\n",
    "        print()\n",
    "        return\n",
    "    for i in range(num,a+1):\n",
    "        if(visited[i] is not True):\n",
    "            visited[i] = 1\n",
    "            arr[cnt] = i;\n",
    "            dfs(i+1,cnt+1)\n",
    "            visited[i] = 0\n",
    "dfs(1,0)"
   ]
  },
  {
   "cell_type": "code",
   "execution_count": 11,
   "id": "b3e098a8",
   "metadata": {},
   "outputs": [
    {
     "data": {
      "text/plain": [
       "[0, 0, 0, 0, 0, 0, 0, 0, 0]"
      ]
     },
     "execution_count": 11,
     "metadata": {},
     "output_type": "execute_result"
    }
   ],
   "source": [
    "a = [i*False for i in range(9)]\n",
    "a"
   ]
  }
 ],
 "metadata": {
  "kernelspec": {
   "display_name": "Python 3",
   "language": "python",
   "name": "python3"
  },
  "language_info": {
   "codemirror_mode": {
    "name": "ipython",
    "version": 3
   },
   "file_extension": ".py",
   "mimetype": "text/x-python",
   "name": "python",
   "nbconvert_exporter": "python",
   "pygments_lexer": "ipython3",
   "version": "3.8.5"
  }
 },
 "nbformat": 4,
 "nbformat_minor": 5
}
