{
 "cells": [
  {
   "cell_type": "markdown",
   "id": "70b18144",
   "metadata": {},
   "source": [
    "자연수 N과 M이 주어졌을 때, 아래 조건을 만족하는 길이가 M인 수열을 모두 구하는 프로그램을 작성하시오.\n",
    "\n",
    "1부터 N까지 자연수 중에서 중복 없이 M개를 고른 수열\n",
    "고른 수열은 오름차순이어야 한다."
   ]
  },
  {
   "cell_type": "code",
   "execution_count": null,
   "id": "a6f120f7",
   "metadata": {},
   "outputs": [],
   "source": []
  }
 ],
 "metadata": {
  "kernelspec": {
   "display_name": "Python 3",
   "language": "python",
   "name": "python3"
  },
  "language_info": {
   "codemirror_mode": {
    "name": "ipython",
    "version": 3
   },
   "file_extension": ".py",
   "mimetype": "text/x-python",
   "name": "python",
   "nbconvert_exporter": "python",
   "pygments_lexer": "ipython3",
   "version": "3.8.5"
  }
 },
 "nbformat": 4,
 "nbformat_minor": 5
}
