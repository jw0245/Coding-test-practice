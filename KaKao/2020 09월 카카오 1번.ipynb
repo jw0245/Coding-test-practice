{
 "cells": [
  {
   "cell_type": "code",
   "execution_count": 2,
   "id": "db447970",
   "metadata": {},
   "outputs": [],
   "source": [
    "import math\n",
    "\n",
    "def compress(s,cut):\n",
    "    pivot = s[0:cut]\n",
    "    rst = len(pivot)\n",
    "    cnt = 1\n",
    "    for i in range(cut, len(s), cut):\n",
    "        if pivot == s[i:i+cut]:\n",
    "            cnt += 1\n",
    "        else :\n",
    "            if cnt !=1:\n",
    "                rst += len(str(cnt))\n",
    "            cnt = 1\n",
    "            pivot = s[i:i+cut]\n",
    "            rst += len(pivot)\n",
    "    if cnt != 1:\n",
    "        rst += len(str(cnt))\n",
    "    return rst\n",
    "\n",
    "def soultion(s):\n",
    "    if len(s) <= 2:\n",
    "        return len(s)\n",
    "    answer = math.inf \n",
    "    for i in range (1,len(s)):\n",
    "        answer = min(answer, compress(s,i))\n",
    "    return answer"
   ]
  }
 ],
 "metadata": {
  "kernelspec": {
   "display_name": "Python 3",
   "language": "python",
   "name": "python3"
  },
  "language_info": {
   "codemirror_mode": {
    "name": "ipython",
    "version": 3
   },
   "file_extension": ".py",
   "mimetype": "text/x-python",
   "name": "python",
   "nbconvert_exporter": "python",
   "pygments_lexer": "ipython3",
   "version": "3.8.5"
  }
 },
 "nbformat": 4,
 "nbformat_minor": 5
}
